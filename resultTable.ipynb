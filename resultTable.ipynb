{
 "cells": [
  {
   "cell_type": "code",
   "execution_count": 12,
   "id": "acf04dd8",
   "metadata": {},
   "outputs": [
    {
     "name": "stdout",
     "output_type": "stream",
     "text": [
      "NAME:  ALEXIS LIVI\n",
      "\n",
      "\n",
      "GENDER:  Female\n",
      "\n",
      "\n",
      "YEAR:  2020\n",
      "\n",
      "\n",
      "========  =====  ============\n",
      "COURSE    GRADE   CREDIT UNIT\n",
      "========  =====  =============\n",
      "MAT112      C              3\n",
      "CPE123      A              3\n",
      "GST104      D              3\n",
      "MAT221      F              3\n",
      "CPI109      C              2\n",
      "CPT342      E              3\n",
      "EET124      D              2\n",
      "AET214      D              1\n",
      "========  =====  ============\n",
      "\n",
      "TOTAL CREDIT LOAD: 20\n",
      "\n",
      "GPA: 3.80\n",
      "\n",
      "\n",
      "REMARK: GOOD\n"
     ]
    }
   ],
   "source": [
    "import random\n",
    "\n",
    "maleFirstName = []\n",
    "femaleFirstName = []\n",
    "lastName = []\n",
    "\n",
    "malename = open('male-first-names.txt', 'r')\n",
    "maleFirstName = malename.read().splitlines()\n",
    "\n",
    "femalename = open('female-first-name.txt' , 'r')\n",
    "femaleFirstName = femalename.read().splitlines()\n",
    "\n",
    "surname = open('last-names.txt', 'r')\n",
    "lastName = surname.read().splitlines()\n",
    "\n",
    "ranMaleName = random.choice(maleFirstName)\n",
    "ranFemaleName = random.choice(femaleFirstName)\n",
    "ranLastName = random.choice(lastName)\n",
    "\n",
    "maleCandidate = f\"{ranMaleName} {ranLastName}\"\n",
    "femaleCandidate = f\"{ranFemaleName} {ranLastName}\"\n",
    "\n",
    "gender = random.choice(['male' , 'female'])\n",
    "if gender == 'male':\n",
    "    firstName = (maleFirstName)\n",
    "else:\n",
    "    firstName = (femaleFirstName)\n",
    "    \n",
    "year1 = 2019\n",
    "year2 = 2023\n",
    "\n",
    "year = random.randint(year1,year2)\n",
    "\n",
    "grade = {\"A\":5, \"B\":4, \"C\":3, \"D\":2, \"E\":1, \"F\":0}\n",
    "\n",
    "wgp = []\n",
    "\n",
    "\n",
    "wgp = []\n",
    "totalc = []\n",
    "\n",
    "def calculateGpa():\n",
    "    creditUnit = []\n",
    "    totalcu = 0\n",
    "    \n",
    "    for i in range(len(courses)):\n",
    "        randomGrade = random.choice(list(grade.keys()))\n",
    "        score = int(grade[randomGrade])\n",
    "        \n",
    "        credit = random.randint(1, 3)\n",
    "        creditUnit.append(credit)\n",
    "        \n",
    "        gradepoint = score * credit\n",
    "        wgp.append(gradepoint)\n",
    "    \n",
    "    totalwgp = sum(wgp)\n",
    "    totalcu = sum(creditUnit)\n",
    "    totalc.append(totalcu)\n",
    "    return (totalwgp / totalcu)\n",
    "    \n",
    "print('NAME: ', maleCandidate)\n",
    "print(\"\\n\")\n",
    "print(\"GENDER: \", gender.capitalize())\n",
    "print(\"\\n\")\n",
    "print(\"YEAR: \" , year)\n",
    "print(\"\\n\")\n",
    "print(\"========  =====  ============\\nCOURSE    GRADE   CREDIT UNIT\\n========  =====  =============\")\n",
    "\n",
    "dg = []\n",
    "credit_units = []\n",
    "for courses in [\"MAT112\", \"CPE123\", \"GST104\", \"MAT221\", \"CPI109\", \"CPT342\", \"EET124\", \"AET214\"]:\n",
    "    randomGrade = random.choice(list(grade.keys()))\n",
    "    dg.append(randomGrade)\n",
    "    creditUnit = random.randint(1, 3)\n",
    "    credit_units.append(creditUnit)\n",
    "    print(f\"{courses}      {randomGrade}              {creditUnit}\")\n",
    "print(\"========  =====  ============\")\n",
    "\n",
    "    \n",
    "print(\"\")\n",
    "creditLoad = sum(credit_units)\n",
    "print(f\"TOTAL CREDIT LOAD: {creditLoad}\\n\")\n",
    "gpaResult = calculateGpa()\n",
    "print(f\"GPA: {gpaResult:.2f}\")\n",
    "print(\"\\n\")\n",
    "\n",
    "if(gpaResult >= 4.5):\n",
    "    print(\"REMARK: EXCELLENT\")\n",
    "elif(gpaResult >= 3.5 and gpaResult < 4.5):\n",
    "    print(\"REMARK: GOOD\")\n",
    "elif(gpaResult >= 2.5 and gpaResult < 3.5):\n",
    "    print(\"REMARK: FAIR\")\n",
    "elif(gpaResult >= 1.5 and gpaResult < 2.5):\n",
    "    print(\"REMARK: POOR\")\n",
    "else:\n",
    "    print(\"REMARK: FAIL\")\n",
    "\n"
   ]
  },
  {
   "cell_type": "code",
   "execution_count": 7,
   "id": "ac81765b",
   "metadata": {},
   "outputs": [
    {
     "name": "stdout",
     "output_type": "stream",
     "text": [
      "[[1 2 3 4 5]\n",
      " [2 3 3 4 5]]\n",
      "<class 'numpy.ndarray'>\n",
      "2\n"
     ]
    }
   ],
   "source": [
    "import numpy as np\n",
    "arr = np.array([[1,2,3,4,5],[2,3,3,4,5]])\n",
    "print(arr)\n",
    "print(type(arr))\n",
    "print(arr.ndim)"
   ]
  },
  {
   "cell_type": "code",
   "execution_count": 8,
   "id": "fb0f88be",
   "metadata": {},
   "outputs": [
    {
     "name": "stdout",
     "output_type": "stream",
     "text": [
      "[[[[[1 2 3 4]]]]]\n",
      "number of dimensions : 5\n"
     ]
    }
   ],
   "source": [
    "import numpy as np\n",
    "\n",
    "arr = np.array([1, 2, 3, 4], ndmin=5)\n",
    "\n",
    "print(arr)\n",
    "print('number of dimensions :', arr.ndim)"
   ]
  },
  {
   "cell_type": "code",
   "execution_count": 14,
   "id": "2a06c6b2",
   "metadata": {},
   "outputs": [
    {
     "name": "stderr",
     "output_type": "stream",
     "text": [
      "<ipython-input-14-9bf9f8a4108e>:2: VisibleDeprecationWarning: Creating an ndarray from ragged nested sequences (which is a list-or-tuple of lists-or-tuples-or ndarrays with different lengths or shapes) is deprecated. If you meant to do this, you must specify 'dtype=object' when creating the ndarray.\n",
      "  num = np.array([[1,2,3,4,1,2,3,6,7],[3,4,5,1,2,3,4]])\n"
     ]
    },
    {
     "ename": "IndexError",
     "evalue": "too many indices for array: array is 1-dimensional, but 2 were indexed",
     "output_type": "error",
     "traceback": [
      "\u001b[1;31m---------------------------------------------------------------------------\u001b[0m",
      "\u001b[1;31mIndexError\u001b[0m                                Traceback (most recent call last)",
      "\u001b[1;32m<ipython-input-14-9bf9f8a4108e>\u001b[0m in \u001b[0;36m<module>\u001b[1;34m\u001b[0m\n\u001b[0;32m      1\u001b[0m \u001b[1;32mimport\u001b[0m \u001b[0mnumpy\u001b[0m \u001b[1;32mas\u001b[0m \u001b[0mnp\u001b[0m\u001b[1;33m\u001b[0m\u001b[1;33m\u001b[0m\u001b[0m\n\u001b[0;32m      2\u001b[0m \u001b[0mnum\u001b[0m \u001b[1;33m=\u001b[0m \u001b[0mnp\u001b[0m\u001b[1;33m.\u001b[0m\u001b[0marray\u001b[0m\u001b[1;33m(\u001b[0m\u001b[1;33m[\u001b[0m\u001b[1;33m[\u001b[0m\u001b[1;36m1\u001b[0m\u001b[1;33m,\u001b[0m\u001b[1;36m2\u001b[0m\u001b[1;33m,\u001b[0m\u001b[1;36m3\u001b[0m\u001b[1;33m,\u001b[0m\u001b[1;36m4\u001b[0m\u001b[1;33m,\u001b[0m\u001b[1;36m1\u001b[0m\u001b[1;33m,\u001b[0m\u001b[1;36m2\u001b[0m\u001b[1;33m,\u001b[0m\u001b[1;36m3\u001b[0m\u001b[1;33m,\u001b[0m\u001b[1;36m6\u001b[0m\u001b[1;33m,\u001b[0m\u001b[1;36m7\u001b[0m\u001b[1;33m]\u001b[0m\u001b[1;33m,\u001b[0m\u001b[1;33m[\u001b[0m\u001b[1;36m3\u001b[0m\u001b[1;33m,\u001b[0m\u001b[1;36m4\u001b[0m\u001b[1;33m,\u001b[0m\u001b[1;36m5\u001b[0m\u001b[1;33m,\u001b[0m\u001b[1;36m1\u001b[0m\u001b[1;33m,\u001b[0m\u001b[1;36m2\u001b[0m\u001b[1;33m,\u001b[0m\u001b[1;36m3\u001b[0m\u001b[1;33m,\u001b[0m\u001b[1;36m4\u001b[0m\u001b[1;33m]\u001b[0m\u001b[1;33m]\u001b[0m\u001b[1;33m)\u001b[0m\u001b[1;33m\u001b[0m\u001b[1;33m\u001b[0m\u001b[0m\n\u001b[1;32m----> 3\u001b[1;33m \u001b[0mprint\u001b[0m\u001b[1;33m(\u001b[0m\u001b[0mnum\u001b[0m\u001b[1;33m[\u001b[0m\u001b[1;36m1\u001b[0m\u001b[1;33m,\u001b[0m\u001b[1;36m4\u001b[0m\u001b[1;33m]\u001b[0m\u001b[1;33m)\u001b[0m\u001b[1;33m\u001b[0m\u001b[1;33m\u001b[0m\u001b[0m\n\u001b[0m",
      "\u001b[1;31mIndexError\u001b[0m: too many indices for array: array is 1-dimensional, but 2 were indexed"
     ]
    }
   ],
   "source": [
    "import numpy as np\n",
    "num = np.array([[1,2,3,4,1,2,3,6,7] , [3,4,5,1,2,3,4]])\n",
    "print(num[1,4])"
   ]
  },
  {
   "cell_type": "code",
   "execution_count": 25,
   "id": "86cc5259",
   "metadata": {},
   "outputs": [
    {
     "name": "stdout",
     "output_type": "stream",
     "text": [
      "[1 2 3 4 5]\n"
     ]
    }
   ],
   "source": [
    "import numpy as np\n",
    "numbers = np.array([1.5,2.6,3.7,4.9,5])\n",
    "newarr = numbers.astype('int')\n",
    "print(newarr)"
   ]
  },
  {
   "cell_type": "code",
   "execution_count": null,
   "id": "5d60aa5d",
   "metadata": {},
   "outputs": [],
   "source": []
  }
 ],
 "metadata": {
  "kernelspec": {
   "display_name": "Python 3",
   "language": "python",
   "name": "python3"
  },
  "language_info": {
   "codemirror_mode": {
    "name": "ipython",
    "version": 3
   },
   "file_extension": ".py",
   "mimetype": "text/x-python",
   "name": "python",
   "nbconvert_exporter": "python",
   "pygments_lexer": "ipython3",
   "version": "3.8.8"
  }
 },
 "nbformat": 4,
 "nbformat_minor": 5
}
